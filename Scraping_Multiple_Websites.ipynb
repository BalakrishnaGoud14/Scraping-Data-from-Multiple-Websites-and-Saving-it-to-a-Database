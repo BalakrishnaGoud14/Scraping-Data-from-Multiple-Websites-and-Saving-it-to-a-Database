{
 "cells": [
  {
   "cell_type": "code",
   "execution_count": null,
   "id": "dd435d24",
   "metadata": {},
   "outputs": [],
   "source": [
    "# importing necessary modules\n",
    "\n",
    "import requests\n",
    "import json\n",
    "import re\n",
    "import pandas as pd\n",
    "import MySQLdb\n",
    "from bs4 import BeautifulSoup"
   ]
  },
  {
   "cell_type": "code",
   "execution_count": null,
   "id": "5eca4a7c",
   "metadata": {},
   "outputs": [],
   "source": [
    "# Scraping the multiple websites using BeautifulSoup\n",
    "\n",
    "\n",
    "base_url='http://books.toscrape.com/catalogue/'\n",
    "current_page='http://books.toscrape.com/catalogue/page-1.html'\n",
    "load=requests.get(current_page)\n",
    "\n",
    "name = []\n",
    "price = []\n",
    "quantity = []\n",
    "rating = []\n",
    "\n",
    "for i in range(50):\n",
    "    \n",
    "    data=BeautifulSoup(load.text,'html.parser')\n",
    "    next_=data.find_all(class_=\"next\")\n",
    "    data_1=data.find_all(class_=\"product_pod\")\n",
    "    for j in data_1:\n",
    "        book_url=base_url+j.h3.a['href']\n",
    "        load_book=requests.get(book_url)\n",
    "        book_data=BeautifulSoup(load_book.text,'html.parser')    \n",
    "        name.append(book_data.h1.string)\n",
    "        price1 = book_data.find(class_='price_color').string\n",
    "        price1 = float(re.search('[\\d.]+', price1).group())\n",
    "        price.append(price1)\n",
    "        quantity1 = book_data.find(class_='instock availability')\n",
    "        quantity1 = quantity1.contents[-1].strip()\n",
    "        quantity1 = int(re.search('\\d+', quantity1).group())\n",
    "        quantity.append(quantity1)\n",
    "        find_entire_class_name = book_data.find(class_='star-rating')\n",
    "        rating.append(find_entire_class_name.get('class')[1])\n",
    "\n",
    "    if next_[0]==None:\n",
    "        break\n",
    "    next_page=base_url+next_[0].a[\"href\"]\n",
    "    load=requests.get(next_page)"
   ]
  },
  {
   "cell_type": "code",
   "execution_count": null,
   "id": "092351bf",
   "metadata": {},
   "outputs": [],
   "source": [
    "# Creating the dataframe\n",
    "\n",
    "column_names = ['Name_of_the_Book', 'Price_in_Euros', 'Quantity_in_Stock', 'Rating_Out_of_Five']\n",
    "df = pd.DataFrame(list(zip(name,price,quantity,rating)),columns=column_names)\n"
   ]
  },
  {
   "cell_type": "code",
   "execution_count": null,
   "id": "6b99fc2a",
   "metadata": {},
   "outputs": [],
   "source": [
    "#Storing the dataframe into MYSQL database\n",
    "\n",
    "host='localhost'\n",
    "user='root'\n",
    "password='********'\n",
    "database='Books_Info'\n",
    "\n",
    "connection = MySQLdb.connect(host, user, password, database)\n",
    "\n",
    "\n",
    "cursor = connection.cursor()\n",
    "\n",
    "# creating column list for insertion\n",
    "cols = \",\".join([str(i) for i in df.columns.tolist()])\n",
    "\n",
    "# Inserting DataFrame records one by one.\n",
    "for i,row in df.iterrows():\n",
    "    sql = \"INSERT INTO books_details (\" + str(cols) + \") VALUES (\" + \"%s,\"*(len(row)-1) + \"%s) ;\"\n",
    "    cursor.execute(sql, tuple(row))\n",
    "    connection.commit()\n",
    "\n",
    "# Executing query\n",
    "sql = \"SELECT * FROM books_details ;\"\n",
    "cursor.execute(sql)\n",
    "\n",
    "# Fetching all the records\n",
    "result = cursor.fetchall()\n",
    "for i in result:\n",
    "    print(i)\n",
    "\n",
    "connection.close()\n"
   ]
  },
  {
   "cell_type": "code",
   "execution_count": null,
   "id": "05550d61",
   "metadata": {},
   "outputs": [],
   "source": []
  }
 ],
 "metadata": {
  "kernelspec": {
   "display_name": "Python 3",
   "language": "python",
   "name": "python3"
  },
  "language_info": {
   "codemirror_mode": {
    "name": "ipython",
    "version": 3
   },
   "file_extension": ".py",
   "mimetype": "text/x-python",
   "name": "python",
   "nbconvert_exporter": "python",
   "pygments_lexer": "ipython3",
   "version": "3.8.8"
  }
 },
 "nbformat": 4,
 "nbformat_minor": 5
}
